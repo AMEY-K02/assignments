{
 "cells": [
  {
   "cell_type": "code",
   "execution_count": null,
   "id": "b36a4df9-6e24-47ab-8da7-7d08d3e5a640",
   "metadata": {},
   "outputs": [],
   "source": [
    "Q.1 \n",
    "Answer : Guido van Rossum\n",
    "\n",
    "Q.2\n",
    "Answer : object oriented, structured and functional programming\n",
    "\n",
    "Q.3\n",
    "Answer : yes\n",
    "\n",
    "Q.4\n",
    "Answer : .py\n",
    "\n",
    "Q.5\n",
    "Answer : interpreted language\n",
    "\n",
    "Q.6\n",
    "Answer : a module, a function body, and a class definition\n",
    "\n",
    "Q.7\n",
    "Answer : #\n",
    "    \n",
    "Q.8\n",
    "Answer : sys.version\n",
    "\n",
    "Q.9\n",
    "Answer : lambda\n",
    "\n",
    "Q.10\n",
    "Answer : preferred installer program\n",
    "\n",
    "Q.11\n",
    "Answer : print( ) ,type( ),input( ),bool()\n",
    "\n",
    "Q.12\n",
    "Answer : 79 characters\n",
    "\n",
    "Q.13\n",
    "Answer : a. Easy to read \n",
    "         b. it is portable in the sense that the same code can be used on different machines\n",
    "         c. Python code can also be written in other languages like C++ making it a highly extensible language\n",
    "         d. Python is a high level programming language because programmers do not need to remember the system architecture nor do they have to manage the memory\n",
    "            \n",
    "Q.14\n",
    "Answer : Memory in Python is managed by Python private heap space\n",
    "\n",
    "Q.15\n",
    "Answer : Install python from this link https://www.python.org/downloads/\n",
    "         Click on the windows button to start a search\n",
    "        type in \"system env\" and click on the \"edit system environment variables\"\n",
    "        Now click on the advanced tab on the top\n",
    "        At the bottom click the button that says \"environment variables\"\n",
    "        Now on the \"user variables'your user name'\" box at the top of the windows click on path then edit\n",
    "        This should lead to another window where you want to click \"new\" and type in the commands: \"C:\\Python27\" and \"C:\\Python27\\scripts\"Python should now work on command prompt"
   ]
  }
 ],
 "metadata": {
  "kernelspec": {
   "display_name": "Python 3 (ipykernel)",
   "language": "python",
   "name": "python3"
  },
  "language_info": {
   "codemirror_mode": {
    "name": "ipython",
    "version": 3
   },
   "file_extension": ".py",
   "mimetype": "text/x-python",
   "name": "python",
   "nbconvert_exporter": "python",
   "pygments_lexer": "ipython3",
   "version": "3.10.8"
  }
 },
 "nbformat": 4,
 "nbformat_minor": 5
}
